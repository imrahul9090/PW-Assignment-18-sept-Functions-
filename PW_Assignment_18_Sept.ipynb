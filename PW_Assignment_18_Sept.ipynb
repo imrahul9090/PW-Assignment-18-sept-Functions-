{
  "nbformat": 4,
  "nbformat_minor": 0,
  "metadata": {
    "colab": {
      "provenance": []
    },
    "kernelspec": {
      "name": "python3",
      "display_name": "Python 3"
    },
    "language_info": {
      "name": "python"
    }
  },
  "cells": [
    {
      "cell_type": "markdown",
      "source": [
        "PW Assignment\n"
      ],
      "metadata": {
        "id": "2hj1vrJbRhZ3"
      }
    },
    {
      "cell_type": "markdown",
      "source": [
        "1  - What is Python, and why is it popular?\n",
        "\n",
        "Ans- Python is a General-Purpose, Dynamically Typed, High Level, Compiled, Interpreted, Garbage-Collected and Purely Object Oriented Programming Language that supports procedural, Object-Oriented, and functional programming.\n",
        "Example - print(\"Welcome to PW Skills\")\n",
        "\n",
        " -Key Reason for Python Popularity\n",
        "\n",
        "<a> Simplicity and Readability,\n",
        "<b> Versatility across Domain,\n",
        "<c> Extensive Libraries and Framework,\n",
        "<d> Strong Community Support,\n",
        "<e> Adoption in Emerging Technologies,\n",
        "<f> Open Source and Cross-Platform"
      ],
      "metadata": {
        "id": "FiuAMfeqRmQm"
      }
    },
    {
      "cell_type": "markdown",
      "source": [
        "2  - What is an Interprator in Python?\n",
        "\n",
        "Ans- Interprator are Computer Program that will convert the source   code or a high level language into intermediate code(machine level language). it is also called translator in programming language.\n",
        "\n",
        "Ex - Python, Ruby and JavaScript."
      ],
      "metadata": {
        "id": "z7pUk4s_h0ym"
      }
    },
    {
      "cell_type": "markdown",
      "source": [
        " 3  - What are Pre-defined Keywords in Python?\n",
        "Ans - Pre-defined keywords are reserved words that have special meanings and are the part of the language's syntax. These Keywords cannot be used as variable names, function names, or any other identifiers because they are essential for defining the structure and rules of python program.\n",
        "\n",
        "Example - if, elif, else, for, while, break, continue etc."
      ],
      "metadata": {
        "id": "oh59kLKj39eB"
      }
    },
    {
      "cell_type": "markdown",
      "source": [
        " 4  - Can Keywords be used as Variable Names?\n",
        "\n",
        " Ans- No, Keywords cannot be used as Varible names in Python.Keywords are Reserved words that have Predefined meanings and are part of Python's Syntax. Using them as variable names would cause a syntax error because python would not be able to distiguish between the intended use of the keyword and its reserved functionality.\n",
        "\n",
        " Ex - if = 5\n",
        "      #this will raise a SyntaxErrror because 'if' is a keyword."
      ],
      "metadata": {
        "id": "gECrFXgDA5kr"
      }
    },
    {
      "cell_type": "markdown",
      "source": [
        " 5   - What is Mutability in python?\n",
        "\n",
        " Ans -Mutability in python refers to the ability of an object to be modified after it has been created. Objects in python are categorized as either mutable or immutable based on whether their state(data or content) can be changed.\n",
        "\n",
        " Ex - Mutable Object -\n",
        "      Lists, Dictionaries, Sets\n",
        "\n",
        "  Immutable Object -\n",
        "      Strings, Tuples, Numbers\n"
      ],
      "metadata": {
        "id": "qm9cPrFZH12p"
      }
    },
    {
      "cell_type": "markdown",
      "source": [
        " 6   - Why are Lists mutable but Tuples are immutable?\n",
        "\n",
        " Ans - Lists are mutable because they are designed for dynamic, changeable collections while Tuples are immutable to provide fixed, efficient, hashable and safe collections."
      ],
      "metadata": {
        "id": "Jq-w6l9hjG12"
      }
    },
    {
      "cell_type": "markdown",
      "source": [
        " 7  - What is the difference between \"==\" and \"is\" operators in Python?\n",
        "\n",
        " Ans- The '==' operator is used to compare the equality of objects while 'is' operator is used to checks whether different variables point towards a similar object in the memory."
      ],
      "metadata": {
        "id": "rPqDrwLeQETc"
      }
    },
    {
      "cell_type": "markdown",
      "source": [
        " 8  - What are logical operators in python?\n",
        "\n",
        " Ans- Logical Operators in python are used to combine coditional statements and evaluate expressions based on multiple conditions.\n",
        " These operators are case-sensitive and must be written in lowercase. They commonly used in decision-making and control flow in python programs.\n",
        " python has 3 logical operators\n",
        " 'and', 'or', 'not'."
      ],
      "metadata": {
        "id": "EHFtJSpk-R3T"
      }
    },
    {
      "cell_type": "markdown",
      "source": [
        " 9  - What are Type Casting in Python?\n",
        "\n",
        " Ans- Type Casting in python refers to the process of converting one data type into another. This is often done to ensure the compatibility between different data types during operations or to meet specific requirements in a program. python provides several built in functions to perform type casting.\n",
        "\n",
        " There are two types of type casting:\n",
        " 1- Implicit Type Casting\n",
        " 2- Explicit Type Casting"
      ],
      "metadata": {
        "id": "Sw-M7a27BiD5"
      }
    },
    {
      "cell_type": "markdown",
      "source": [
        " 10  - What are the difference between Implicit and Explicit Type Casting?\n",
        "\n",
        " Ans - Implicit type casting -> Python automatically converts one data type to another without user intervention.\n",
        "      Example - x = 5, y = 2.5\n",
        "                result = x + y\n",
        "                print(result)\n",
        "                print(type(result))\n",
        "      Explicit type casting -> The progrmmer manually converts one data type into another using python's constructor functions.\n",
        "      Example - num = 10\n",
        "                num_str = str(num)\n",
        "                print(num_str)\n",
        "                print(type(num_str))        "
      ],
      "metadata": {
        "id": "EHLh0mhADkAz"
      }
    },
    {
      "cell_type": "markdown",
      "source": [
        " 11  - What are the purpose of conditional statements in python?\n",
        "\n",
        " Ans - Conditional statement in python are used to control the flow of a program by executing specific blocks of code based on whether certain conditions are true or false. They allow programs to make decisions and behave differently in various situations.\n",
        "\n",
        " Key purposes of conditional statement -\n",
        "\n",
        " Decision Making, Flow Control, Dynamic Behaviour\n"
      ],
      "metadata": {
        "id": "NHF4i3fKHM7k"
      }
    },
    {
      "cell_type": "markdown",
      "source": [
        " 12 - How does the elif statement work?\n",
        "\n",
        " Ans- The 'elif' statement allows you to check multiple conditions in a sequence, executing the block of code associated with the first true condition.\n",
        "\n",
        " The elif statement in python work like this:\n",
        " 1- It stands for \"else if\"\n",
        " 2- It let you check multiple conditions one by one\n",
        " 3- Python evaluates them from top to bottom\n",
        " 4- As soon as one condition is true, its block runs and the rest are skipped\n",
        " 5- If none are true, the optional else block runs."
      ],
      "metadata": {
        "id": "2NQaJZX-RO37"
      }
    },
    {
      "cell_type": "markdown",
      "source": [
        " 13  - What is the difference between for and while loops?\n",
        "\n",
        " Ans - For loop is Used when the number of iteration is known or\n",
        "when iterating over a sequence(like a list, tuple, string or range).\n",
        "\n",
        " Example - for i in range(5)     print(i)\n",
        "\n",
        "  while loop is used when number of iteration is not known in advance and depends on a condition.\n",
        "\n",
        "   Example-  count = 0\n",
        "             while count<0\n",
        "             print(count)\n",
        "             count+ = 1  "
      ],
      "metadata": {
        "id": "33eyAa0NbFYt"
      }
    },
    {
      "cell_type": "markdown",
      "source": [
        " 14 - Describe a scenario where a while loop is more suitable than a for loop?\n",
        "\n",
        " Ans - A while ir more suitable when you don't know in advance how many times the loop should run and the repetition depends on a condition being met.\n",
        "\n",
        "Example - password = \"\"\n",
        "          while password!= \"open123\"\n",
        "          password = input(\"Enter the password\")\n",
        "          print(\"Acccess Denied\")\n",
        "\n",
        "  Here you don't know how many attempts user will need.  \n",
        "  A for loop is less suitable because it usually runs a fixed number of times whereas a while loop continues until the correct condition is satisfied..\n"
      ],
      "metadata": {
        "id": "2xLVkzOwmkIp"
      }
    },
    {
      "cell_type": "markdown",
      "source": [
        "**PRACTICAL QUESTIONS**\n"
      ],
      "metadata": {
        "id": "PG2IPxh8mSEl"
      }
    },
    {
      "cell_type": "markdown",
      "source": [
        " 1 - Write a python program to print \"Hello, World!\""
      ],
      "metadata": {
        "id": "FRAkKT5rvQsY"
      }
    },
    {
      "cell_type": "code",
      "source": [
        "print(\"Hello, World!\")"
      ],
      "metadata": {
        "colab": {
          "base_uri": "https://localhost:8080/"
        },
        "id": "b7dpOh9hvmWp",
        "outputId": "a7433939-c387-4da7-b451-1e98a896067a"
      },
      "execution_count": 2,
      "outputs": [
        {
          "output_type": "stream",
          "name": "stdout",
          "text": [
            "Hello, World!\n"
          ]
        }
      ]
    },
    {
      "cell_type": "markdown",
      "source": [
        "2 - Write a python program that displays your name and age."
      ],
      "metadata": {
        "id": "vwK1E2kRv5mR"
      }
    },
    {
      "cell_type": "code",
      "source": [
        "#Displaying name and age\n",
        "\n",
        "name = \"Rahul Singh\"\n",
        "age = 25\n",
        "\n",
        "print(\"Name:\", name)\n",
        "print(\"Age:\", age)"
      ],
      "metadata": {
        "colab": {
          "base_uri": "https://localhost:8080/"
        },
        "id": "Gig5ioqbw_F4",
        "outputId": "1a8d7320-2b40-46d7-f55f-0fdb10efc8f8"
      },
      "execution_count": 1,
      "outputs": [
        {
          "output_type": "stream",
          "name": "stdout",
          "text": [
            "Name: Rahul Singh\n",
            "Age: 25\n"
          ]
        }
      ]
    },
    {
      "cell_type": "markdown",
      "source": [
        "3 - Write a code to print all the pre-defined keywords in python using the keyword library."
      ],
      "metadata": {
        "id": "l_1N-gDhW54h"
      }
    },
    {
      "cell_type": "code",
      "source": [
        "import keyword\n",
        "\n",
        "#print all python keywords\n",
        "print(\"List of all Python Keywords\")\n",
        "print(keyword.kwlist)"
      ],
      "metadata": {
        "colab": {
          "base_uri": "https://localhost:8080/"
        },
        "id": "fLOlubmUcNdk",
        "outputId": "4e50a916-68db-4979-f319-f31030a00ac1"
      },
      "execution_count": 3,
      "outputs": [
        {
          "output_type": "stream",
          "name": "stdout",
          "text": [
            "List of all Python Keywords\n",
            "['False', 'None', 'True', 'and', 'as', 'assert', 'async', 'await', 'break', 'class', 'continue', 'def', 'del', 'elif', 'else', 'except', 'finally', 'for', 'from', 'global', 'if', 'import', 'in', 'is', 'lambda', 'nonlocal', 'not', 'or', 'pass', 'raise', 'return', 'try', 'while', 'with', 'yield']\n"
          ]
        }
      ]
    },
    {
      "cell_type": "markdown",
      "source": [
        "4 - Write a progam that checks if a given word is a python keyword.\n"
      ],
      "metadata": {
        "id": "cD70F2jacuWO"
      }
    },
    {
      "cell_type": "code",
      "source": [
        "import keyword\n",
        "\n",
        "#function to check if a given word is a python keyword\n",
        "def is_python_keyword(word):\n",
        "  if keyword.iskeyword(word):\n",
        "    print(f\"'{word}' is a python keyword.\")\n",
        "  else:\n",
        "    print(f\"'{word}' is not a python keyword.\")\n",
        "\n",
        "#example usage\n",
        "  word = input(\"Enter a word to check if it is a python keyword:\")\n",
        "  is_python_keyword(word)\n",
        "\n"
      ],
      "metadata": {
        "id": "kLNhzKqodRzH"
      },
      "execution_count": 7,
      "outputs": []
    },
    {
      "cell_type": "markdown",
      "source": [
        "5 - Create a list and tuple in python and demonstrate how attempting to change in element works differently for each."
      ],
      "metadata": {
        "id": "bVhTkGyXorLT"
      }
    },
    {
      "cell_type": "code",
      "source": [
        "#creating a list\n",
        "my_list = [10, 20, 30, 40, 50]\n",
        "print(\"Original List:\", my_list)\n",
        "\n",
        "#modifying an element in the list\n",
        "my_list[1] = 45\n",
        "print(\"Modified List:\", my_list)\n",
        "\n",
        "#creating a tuple\n",
        "my_tuple = (10, 20, 30, 40, 50)\n",
        "print(\"Original Tuple:\", my_tuple)\n",
        "\n",
        "#modifying an element in tuple\n",
        "my_tuple[2] =65\n",
        "print(\"Modified Tuple:\", my_tuple)\n"
      ],
      "metadata": {
        "colab": {
          "base_uri": "https://localhost:8080/",
          "height": 245
        },
        "id": "AAwaony9q-lq",
        "outputId": "65f19823-735a-46a7-b331-14d89d8d3f42"
      },
      "execution_count": 9,
      "outputs": [
        {
          "output_type": "stream",
          "name": "stdout",
          "text": [
            "Original List: [10, 20, 30, 40, 50]\n",
            "Modified List: [10, 45, 30, 40, 50]\n",
            "Original Tuple: (10, 20, 30, 40, 50)\n"
          ]
        },
        {
          "output_type": "error",
          "ename": "TypeError",
          "evalue": "'tuple' object does not support item assignment",
          "traceback": [
            "\u001b[0;31m---------------------------------------------------------------------------\u001b[0m",
            "\u001b[0;31mTypeError\u001b[0m                                 Traceback (most recent call last)",
            "\u001b[0;32m/tmp/ipython-input-4009064167.py\u001b[0m in \u001b[0;36m<cell line: 0>\u001b[0;34m()\u001b[0m\n\u001b[1;32m     12\u001b[0m \u001b[0;34m\u001b[0m\u001b[0m\n\u001b[1;32m     13\u001b[0m \u001b[0;31m#modifying an element in tuple\u001b[0m\u001b[0;34m\u001b[0m\u001b[0;34m\u001b[0m\u001b[0m\n\u001b[0;32m---> 14\u001b[0;31m \u001b[0mmy_tuple\u001b[0m\u001b[0;34m[\u001b[0m\u001b[0;36m2\u001b[0m\u001b[0;34m]\u001b[0m \u001b[0;34m=\u001b[0m\u001b[0;36m65\u001b[0m\u001b[0;34m\u001b[0m\u001b[0;34m\u001b[0m\u001b[0m\n\u001b[0m\u001b[1;32m     15\u001b[0m \u001b[0mprint\u001b[0m\u001b[0;34m(\u001b[0m\u001b[0;34m\"Modified Tuple:\"\u001b[0m\u001b[0;34m,\u001b[0m \u001b[0mmy_tuple\u001b[0m\u001b[0;34m)\u001b[0m\u001b[0;34m\u001b[0m\u001b[0;34m\u001b[0m\u001b[0m\n",
            "\u001b[0;31mTypeError\u001b[0m: 'tuple' object does not support item assignment"
          ]
        }
      ]
    },
    {
      "cell_type": "markdown",
      "source": [
        "6 - Write a function to demonstrate the behaviour of mutable and immutable arguements."
      ],
      "metadata": {
        "id": "Gknsn7Y2uBfy"
      }
    },
    {
      "cell_type": "code",
      "source": [
        "#function to demonstrate mutable and immutable arguements\n",
        "def demonstrate_arguements(mutable_list, immutable_int):\n",
        "\n",
        "  #modifying the mutable arguement(list)\n",
        "  mutable_list.append(100)\n",
        "  print(\"Inside function (mutable):\", mutable_list)\n",
        "\n",
        "  #modifying the immutable arguement(integer)\n",
        "  immutable_int += 10\n",
        "  print(\"inside function (immutable):\", immutable_int)\n",
        "\n",
        "  #initializing mutable and immutable arguements\n",
        "  my_list = [1, 2, 3, 4, 5]\n",
        "  my_int  = 30\n",
        "\n",
        "  #calling the function\n",
        "  print(\"Before function call(mutable):\", my_list)\n",
        "  print(\"Before function call(immutable):\", my_int)\n",
        "\n",
        "  demonstrate_arguements(my_list, my_int)\n",
        "\n",
        "  #checking the value after the function call\n",
        "  print(\"After the function call(mutable):\", my_list)\n",
        "  print(\"After the function call(immutable):\", my_int)"
      ],
      "metadata": {
        "id": "KLMqNRYbua65"
      },
      "execution_count": 11,
      "outputs": []
    },
    {
      "cell_type": "markdown",
      "source": [
        "7 - Write a program that perform basic arithmetic operations on two user-input numbers."
      ],
      "metadata": {
        "id": "BpmGHB3uGnQb"
      }
    },
    {
      "cell_type": "code",
      "source": [
        "#python program to perform basic arithmetic operations\n",
        "\n",
        "#taking input from the users\n",
        "num1 = float(input(\"Enter the first number:\"))\n",
        "num2 = float(input(\"Enter the second number:\"))\n",
        "\n",
        "#performing arithmetic operations\n",
        "addition = num1 + num2\n",
        "subtraction = num1 - num2\n",
        "multiplication = num1 * num2\n",
        "division = num1 / num2\n",
        "\n",
        "#displaying the results\n",
        "print(\"Addition:\", addition)\n",
        "print(\"Subtraction:\", subtraction)\n",
        "print(\"Multiplication:\", multiplication)\n",
        "print(\"Division:\", division)"
      ],
      "metadata": {
        "colab": {
          "base_uri": "https://localhost:8080/"
        },
        "id": "2YR_CWwhHPfv",
        "outputId": "a7038ac6-29eb-4ddd-9462-a7583dc9913e"
      },
      "execution_count": 13,
      "outputs": [
        {
          "output_type": "stream",
          "name": "stdout",
          "text": [
            "Enter the first number:10\n",
            "Enter the second number:40\n",
            "Addition: 50.0\n",
            "Subtraction: -30.0\n",
            "Multiplication: 400.0\n",
            "Division: 0.25\n"
          ]
        }
      ]
    },
    {
      "cell_type": "markdown",
      "source": [
        "8 - Write a program to demonstrate the use of logical operators."
      ],
      "metadata": {
        "id": "u8FPFNIKNA74"
      }
    },
    {
      "cell_type": "code",
      "source": [
        "#Demonstrating Logical Operators in Python\n",
        "\n",
        "#Variables for Demonstration\n",
        "a = 10\n",
        "b = 20\n",
        "c = 30\n",
        "\n",
        "# Using 'and' operator\n",
        "if a < b and b < c:\n",
        "    print(\"'and' Operator: Both conditions are True\")\n",
        "\n",
        "# Using 'or' operator\n",
        "if a > b or b < c:\n",
        "    print(\"'or' Operator: At least one condition is True\")\n",
        "\n",
        "# Using 'not' operator\n",
        "if not (a > b):\n",
        "    print(\"'not' Operator: Negates the condition, so this is True\")\n",
        "\n"
      ],
      "metadata": {
        "colab": {
          "base_uri": "https://localhost:8080/"
        },
        "id": "6qTey3H0NOhR",
        "outputId": "d988d9ff-2243-4c74-9f00-e3b93829b384"
      },
      "execution_count": 2,
      "outputs": [
        {
          "output_type": "stream",
          "name": "stdout",
          "text": [
            "'and' Operator: Both conditions are True\n",
            "'or' Operator: At least one condition is True\n",
            "'not' Operator: Negates the condition, so this is True\n"
          ]
        }
      ]
    },
    {
      "cell_type": "markdown",
      "source": [
        "9 - Write a python program to convert user input from string to integer, float and boolean types."
      ],
      "metadata": {
        "id": "LZdYhnfSgENA"
      }
    },
    {
      "cell_type": "code",
      "source": [
        "# Get user input as a string\n",
        "user_input = input(\"Enter a value: \")\n",
        "\n",
        "# Convert to integer\n",
        "try:\n",
        "    int_value = int(user_input)\n",
        "    print(f\"Integer value: {int_value}\")\n",
        "except ValueError:\n",
        "    print(\"Cannot convert to integer.\")\n",
        "\n",
        "# Convert to float\n",
        "try:\n",
        "    float_value = float(user_input)\n",
        "    print(f\"Float value: {float_value}\")\n",
        "except ValueError:\n",
        "    print(\"Cannot convert to float.\")\n",
        "\n",
        "# Convert to boolean\n",
        "# Any non-empty string except \"0\" (or \"False\") is considered True\n",
        "bool_value = user_input.lower() not in [\"\", \"0\", \"false\"]\n",
        "print(f\"Boolean value: {bool_value}\")\n",
        "\n"
      ],
      "metadata": {
        "colab": {
          "base_uri": "https://localhost:8080/"
        },
        "id": "A53Wn4F2oSTg",
        "outputId": "19b7789e-4a99-473a-ba3d-4784653a5901"
      },
      "execution_count": 3,
      "outputs": [
        {
          "output_type": "stream",
          "name": "stdout",
          "text": [
            "Enter a value: 23\n",
            "Integer value: 23\n",
            "Float value: 23.0\n",
            "Boolean value: True\n"
          ]
        }
      ]
    },
    {
      "cell_type": "markdown",
      "source": [
        "10 - Write code to demonstrate type casting with list elements."
      ],
      "metadata": {
        "id": "9NZOUrnxqanr"
      }
    },
    {
      "cell_type": "code",
      "source": [
        "#Type Casting a list of strings to integers\n",
        "string_list = [\"1\", \"2\", \"3\", \"4\"]\n",
        "int_list = list(map(int, string_list))\n",
        "print(\"Original List (Strings):\", string_list)\n",
        "print(\"Type casted List (Integers):\", int_list)"
      ],
      "metadata": {
        "colab": {
          "base_uri": "https://localhost:8080/"
        },
        "id": "Kfl5Vw2CsDyG",
        "outputId": "44fa6787-67e9-4b07-d004-bf4aee2d8ffb"
      },
      "execution_count": 4,
      "outputs": [
        {
          "output_type": "stream",
          "name": "stdout",
          "text": [
            "Original List (Strings): ['1', '2', '3', '4']\n",
            "Type casted List (Integers): [1, 2, 3, 4]\n"
          ]
        }
      ]
    },
    {
      "cell_type": "markdown",
      "source": [
        "11 - Write a program that checks if a number is positive, negative or zero."
      ],
      "metadata": {
        "id": "3B6n4fNl1fPl"
      }
    },
    {
      "cell_type": "code",
      "source": [
        "#input from the user\n",
        "number = float(input(\"Enter a number:\"))\n",
        "\n",
        "#checking if the number is positive, negative or zero\n",
        "if number > 0 :\n",
        "  print(\"The number is positive.\")\n",
        "elif number < 0:\n",
        "  print(\"The number is negative.\")\n",
        "else:\n",
        "  print(\"The number is zero.\")"
      ],
      "metadata": {
        "colab": {
          "base_uri": "https://localhost:8080/"
        },
        "id": "tAPAR8z42G03",
        "outputId": "f0b7f5b9-533b-42a7-9289-12763a694daf"
      },
      "execution_count": 6,
      "outputs": [
        {
          "output_type": "stream",
          "name": "stdout",
          "text": [
            "Enter a number:0\n",
            "The number is zero.\n"
          ]
        }
      ]
    },
    {
      "cell_type": "markdown",
      "source": [
        "12 - Write a for loop to print numbers from 1 to 10."
      ],
      "metadata": {
        "id": "En67BZ6q3c58"
      }
    },
    {
      "cell_type": "code",
      "source": [
        "for num in range(1, 11):\n",
        "  print(num)"
      ],
      "metadata": {
        "colab": {
          "base_uri": "https://localhost:8080/"
        },
        "id": "xc77oorK3tv4",
        "outputId": "00bc2b68-8511-453a-d5a9-fd57213ca257"
      },
      "execution_count": 7,
      "outputs": [
        {
          "output_type": "stream",
          "name": "stdout",
          "text": [
            "1\n",
            "2\n",
            "3\n",
            "4\n",
            "5\n",
            "6\n",
            "7\n",
            "8\n",
            "9\n",
            "10\n"
          ]
        }
      ]
    },
    {
      "cell_type": "markdown",
      "source": [
        "13 - Write a python program to find the sum of all even numbers between 1 to 50."
      ],
      "metadata": {
        "id": "0aolZM8178Nl"
      }
    },
    {
      "cell_type": "code",
      "source": [
        "#using for loop\n",
        "sum_even = 0\n",
        "for num in range(2, 51, 2):\n",
        "  sum_even += num\n",
        "  print(\"sum of even numbers between 1 to 50(using for loop):\", sum_even)\n"
      ],
      "metadata": {
        "colab": {
          "base_uri": "https://localhost:8080/"
        },
        "id": "v2Bik7ck8TCF",
        "outputId": "3c7f1665-5429-447e-cb35-0b19d9e79338"
      },
      "execution_count": 8,
      "outputs": [
        {
          "output_type": "stream",
          "name": "stdout",
          "text": [
            "sum of even numbers between 1 to 50(using for loop): 2\n",
            "sum of even numbers between 1 to 50(using for loop): 6\n",
            "sum of even numbers between 1 to 50(using for loop): 12\n",
            "sum of even numbers between 1 to 50(using for loop): 20\n",
            "sum of even numbers between 1 to 50(using for loop): 30\n",
            "sum of even numbers between 1 to 50(using for loop): 42\n",
            "sum of even numbers between 1 to 50(using for loop): 56\n",
            "sum of even numbers between 1 to 50(using for loop): 72\n",
            "sum of even numbers between 1 to 50(using for loop): 90\n",
            "sum of even numbers between 1 to 50(using for loop): 110\n",
            "sum of even numbers between 1 to 50(using for loop): 132\n",
            "sum of even numbers between 1 to 50(using for loop): 156\n",
            "sum of even numbers between 1 to 50(using for loop): 182\n",
            "sum of even numbers between 1 to 50(using for loop): 210\n",
            "sum of even numbers between 1 to 50(using for loop): 240\n",
            "sum of even numbers between 1 to 50(using for loop): 272\n",
            "sum of even numbers between 1 to 50(using for loop): 306\n",
            "sum of even numbers between 1 to 50(using for loop): 342\n",
            "sum of even numbers between 1 to 50(using for loop): 380\n",
            "sum of even numbers between 1 to 50(using for loop): 420\n",
            "sum of even numbers between 1 to 50(using for loop): 462\n",
            "sum of even numbers between 1 to 50(using for loop): 506\n",
            "sum of even numbers between 1 to 50(using for loop): 552\n",
            "sum of even numbers between 1 to 50(using for loop): 600\n",
            "sum of even numbers between 1 to 50(using for loop): 650\n"
          ]
        }
      ]
    },
    {
      "cell_type": "markdown",
      "source": [
        "14 - Write a program to reverse a string using while loop.\n"
      ],
      "metadata": {
        "id": "XgRau8Ze948m"
      }
    },
    {
      "cell_type": "code",
      "source": [
        "from ast import Index\n",
        "#Input String\n",
        "input_string = \"Welcome to Python\"\n",
        "\n",
        "#initialize variable\n",
        "reversed_string = \"\"\n",
        "index = len(input_string)-1\n",
        "\n",
        "#while loop to reverse the string\n",
        "while index >= 0:\n",
        "  reversed_string += input_string[index]\n",
        "  index -= 1\n",
        "\n",
        "#output the reversed string\n",
        "print(\"Original String:\", input_string)\n",
        "print(\"Reversed String:\", reversed_string)"
      ],
      "metadata": {
        "colab": {
          "base_uri": "https://localhost:8080/"
        },
        "id": "X4DWuYNtDgoX",
        "outputId": "b416ff28-042e-46fa-cdfb-8178dd2831e4"
      },
      "execution_count": 12,
      "outputs": [
        {
          "output_type": "stream",
          "name": "stdout",
          "text": [
            "Original String: Welcome to Python\n",
            "Reversed String: nohtyP ot emocleW\n"
          ]
        }
      ]
    },
    {
      "cell_type": "markdown",
      "source": [
        "15 - Write a python program to calculate the factorial of a number provided by the user using a while loop."
      ],
      "metadata": {
        "id": "2_Av6FnZK_hB"
      }
    },
    {
      "cell_type": "code",
      "source": [
        "#take input from the user\n",
        "num = int(input(\"Enter a number:\"))\n",
        "\n",
        "factorial = 1\n",
        "i = 1\n",
        "\n",
        "#while loop to calculate factorial\n",
        "while i <= num:\n",
        "  factorial *= i\n",
        "  i += 1\n",
        "\n",
        "print(\"Factorial of\", num, \"is:\", factorial)"
      ],
      "metadata": {
        "colab": {
          "base_uri": "https://localhost:8080/"
        },
        "id": "II56KUGtMrVN",
        "outputId": "b613d49c-792b-4fd2-c495-48d669e19158"
      },
      "execution_count": 15,
      "outputs": [
        {
          "output_type": "stream",
          "name": "stdout",
          "text": [
            "Enter a number:4\n",
            "Factorial of 4 is: 24\n"
          ]
        }
      ]
    }
  ]
}